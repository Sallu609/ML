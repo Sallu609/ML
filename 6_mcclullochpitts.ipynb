{
  "cells": [
    {
      "cell_type": "markdown",
      "metadata": {
        "id": "nPB-rMU2LNe_"
      },
      "source": [
        "https://medium.com/@pennQuin/implementing-boolean-functions-using-mcculloch-pitts-mp-neuron-36164ccc653f"
      ]
    },
    {
      "cell_type": "code",
      "execution_count": 1,
      "metadata": {
        "id": "xaf5a0FLfSB6"
      },
      "outputs": [
        {
          "name": "stdout",
          "output_type": "stream",
          "text": [
            "AND Gate:\n",
            "Input: (0, 0), Output: 0\n",
            "Input: (0, 1), Output: 0\n",
            "Input: (1, 0), Output: 0\n",
            "Input: (1, 1), Output: 1\n",
            "\n",
            "OR Gate:\n",
            "Input: (0, 0), Output: 0\n",
            "Input: (0, 1), Output: 1\n",
            "Input: (1, 0), Output: 1\n",
            "Input: (1, 1), Output: 1\n"
          ]
        }
      ],
      "source": [
        "def mc_pitts(inputs, weights, threshold):\n",
        "    total = sum(i * w for i, w in zip(inputs, weights))\n",
        "    return 1 if total >= threshold else 0\n",
        "\n",
        "# AND gate\n",
        "print(\"AND Gate:\")\n",
        "for x in [(0,0), (0,1), (1,0), (1,1)]:\n",
        "    output = mc_pitts(x, [1, 1], threshold=2)\n",
        "    print(f\"Input: {x}, Output: {output}\")\n",
        "\n",
        "# OR gate\n",
        "print(\"\\nOR Gate:\")\n",
        "for x in [(0,0), (0,1), (1,0), (1,1)]:\n",
        "    output = mc_pitts(x, [1, 1], threshold=1)\n",
        "    print(f\"Input: {x}, Output: {output}\")"
      ]
    },
    {
      "cell_type": "code",
      "execution_count": null,
      "metadata": {
        "id": "VpqIUm4ciFa6"
      },
      "outputs": [],
      "source": []
    }
  ],
  "metadata": {
    "colab": {
      "provenance": []
    },
    "kernelspec": {
      "display_name": "base",
      "language": "python",
      "name": "python3"
    },
    "language_info": {
      "codemirror_mode": {
        "name": "ipython",
        "version": 3
      },
      "file_extension": ".py",
      "mimetype": "text/x-python",
      "name": "python",
      "nbconvert_exporter": "python",
      "pygments_lexer": "ipython3",
      "version": "3.12.7"
    }
  },
  "nbformat": 4,
  "nbformat_minor": 0
}
