{
  "cells": [
    {
      "cell_type": "markdown",
      "metadata": {
        "id": "EMsUGfDxMBfm"
      },
      "source": []
    },
    {
      "cell_type": "markdown",
      "metadata": {
        "id": "2DttwI_SMJJ-"
      },
      "source": [
        "https://github.com/alphayama/single_layer_perceptron/blob/master/single_layer_perceptrons.ipynb"
      ]
    },
    {
      "cell_type": "markdown",
      "metadata": {
        "id": "rE3SeHvSL_MH"
      },
      "source": []
    },
    {
      "cell_type": "code",
      "execution_count": 1,
      "metadata": {
        "id": "K-jXfm_2pyRP"
      },
      "outputs": [
        {
          "name": "stdout",
          "output_type": "stream",
          "text": [
            "Accuracy of Perceptron on Iris dataset: 88.89%\n",
            "\n",
            "Some Test Predictions:\n",
            "Input: [6.1 2.8 4.7 1.2], Predicted class: versicolor, Actual class: versicolor\n",
            "Input: [5.7 3.8 1.7 0.3], Predicted class: setosa, Actual class: setosa\n",
            "Input: [7.7 2.6 6.9 2.3], Predicted class: virginica, Actual class: virginica\n",
            "Input: [6.  2.9 4.5 1.5], Predicted class: versicolor, Actual class: versicolor\n",
            "Input: [6.8 2.8 4.8 1.4], Predicted class: versicolor, Actual class: versicolor\n"
          ]
        }
      ],
      "source": [
        "import numpy as np\n",
        "from sklearn.model_selection import train_test_split\n",
        "from sklearn.datasets import load_iris\n",
        "from sklearn.preprocessing import StandardScaler\n",
        "from sklearn.linear_model import Perceptron\n",
        "from sklearn.metrics import accuracy_score\n",
        "\n",
        "# Load the Iris dataset\n",
        "iris = load_iris()\n",
        "X = iris.data  # Features (sepal length, sepal width, petal length, petal width)\n",
        "y = iris.target  # Labels (species)\n",
        "\n",
        "# Split the dataset into training and testing sets\n",
        "X_train, X_test, y_train, y_test = train_test_split(X, y, test_size=0.3, random_state=42)\n",
        "\n",
        "# Normalize the features using StandardScaler (this is important for convergence)\n",
        "scaler = StandardScaler()\n",
        "X_train_scaled = scaler.fit_transform(X_train)\n",
        "X_test_scaled = scaler.transform(X_test)\n",
        "\n",
        "# Initialize the Perceptron model\n",
        "perceptron = Perceptron(max_iter=1000, random_state=42)\n",
        "\n",
        "# Train the perceptron on the training data\n",
        "perceptron.fit(X_train_scaled, y_train)\n",
        "\n",
        "# Make predictions on the test data\n",
        "y_pred = perceptron.predict(X_test_scaled)\n",
        "\n",
        "# Evaluate the model\n",
        "accuracy = accuracy_score(y_test, y_pred)\n",
        "print(f\"Accuracy of Perceptron on Iris dataset: {accuracy * 100:.2f}%\")\n",
        "\n",
        "# Print some test predictions\n",
        "print(\"\\nSome Test Predictions:\")\n",
        "for i in range(5):\n",
        "    print(f\"Input: {X_test[i]}, Predicted class: {iris.target_names[y_pred[i]]}, Actual class: {iris.target_names[y_test[i]]}\")\n"
      ]
    },
    {
      "cell_type": "code",
      "execution_count": 2,
      "metadata": {
        "colab": {
          "base_uri": "https://localhost:8080/"
        },
        "id": "i7l4tteCpNYg",
        "outputId": "37d97230-6bde-4060-e1cb-5e7e6dd1934d"
      },
      "outputs": [
        {
          "name": "stdout",
          "output_type": "stream",
          "text": [
            "Training for AND Gate:\n",
            "Epoch 1/10, Weights: [0.1 0.1], Bias: 0.0\n",
            "Epoch 2/10, Weights: [0.2 0.1], Bias: -0.1\n",
            "Epoch 3/10, Weights: [0.2 0.1], Bias: -0.20000000000000004\n",
            "Epoch 4/10, Weights: [0.2 0.1], Bias: -0.20000000000000004\n",
            "Epoch 5/10, Weights: [0.2 0.1], Bias: -0.20000000000000004\n",
            "Epoch 6/10, Weights: [0.2 0.1], Bias: -0.20000000000000004\n",
            "Epoch 7/10, Weights: [0.2 0.1], Bias: -0.20000000000000004\n",
            "Epoch 8/10, Weights: [0.2 0.1], Bias: -0.20000000000000004\n",
            "Epoch 9/10, Weights: [0.2 0.1], Bias: -0.20000000000000004\n",
            "Epoch 10/10, Weights: [0.2 0.1], Bias: -0.20000000000000004\n",
            "\n",
            "Training for OR Gate:\n",
            "Epoch 1/10, Weights: [0.  0.1], Bias: 0.0\n",
            "Epoch 2/10, Weights: [0.1 0.1], Bias: 0.0\n",
            "Epoch 3/10, Weights: [0.1 0.1], Bias: -0.1\n",
            "Epoch 4/10, Weights: [0.1 0.1], Bias: -0.1\n",
            "Epoch 5/10, Weights: [0.1 0.1], Bias: -0.1\n",
            "Epoch 6/10, Weights: [0.1 0.1], Bias: -0.1\n",
            "Epoch 7/10, Weights: [0.1 0.1], Bias: -0.1\n",
            "Epoch 8/10, Weights: [0.1 0.1], Bias: -0.1\n",
            "Epoch 9/10, Weights: [0.1 0.1], Bias: -0.1\n",
            "Epoch 10/10, Weights: [0.1 0.1], Bias: -0.1\n",
            "\n",
            "Training for NOR Gate:\n",
            "Epoch 1/10, Weights: [ 0.  -0.1], Bias: -0.1\n",
            "Epoch 2/10, Weights: [-0.1 -0.1], Bias: -0.1\n",
            "Epoch 3/10, Weights: [-0.1 -0.1], Bias: 0.0\n",
            "Epoch 4/10, Weights: [-0.1 -0.1], Bias: 0.0\n",
            "Epoch 5/10, Weights: [-0.1 -0.1], Bias: 0.0\n",
            "Epoch 6/10, Weights: [-0.1 -0.1], Bias: 0.0\n",
            "Epoch 7/10, Weights: [-0.1 -0.1], Bias: 0.0\n",
            "Epoch 8/10, Weights: [-0.1 -0.1], Bias: 0.0\n",
            "Epoch 9/10, Weights: [-0.1 -0.1], Bias: 0.0\n",
            "Epoch 10/10, Weights: [-0.1 -0.1], Bias: 0.0\n",
            "\n",
            "Testing AND Gate:\n",
            "Input: [0 0], Output: 0\n",
            "Input: [0 1], Output: 0\n",
            "Input: [1 0], Output: 0\n",
            "Input: [1 1], Output: 1\n",
            "\n",
            "Testing OR Gate:\n",
            "Input: [0 0], Output: 0\n",
            "Input: [0 1], Output: 1\n",
            "Input: [1 0], Output: 1\n",
            "Input: [1 1], Output: 1\n",
            "\n",
            "Testing NOR Gate:\n",
            "Input: [0 0], Output: 1\n",
            "Input: [0 1], Output: 0\n",
            "Input: [1 0], Output: 0\n",
            "Input: [1 1], Output: 0\n"
          ]
        }
      ],
      "source": [
        "import numpy as np\n",
        "\n",
        "# Define the perceptron class\n",
        "class Perceptron:\n",
        "    def __init__(self, input_size, learning_rate=0.1):\n",
        "        self.weights = np.zeros(input_size)  # Initialize weights to zeros\n",
        "        self.bias = 0  # Initialize bias to zero\n",
        "        self.learning_rate = learning_rate  # Learning rate\n",
        "\n",
        "    # Activation function (step function)\n",
        "    def activation(self, x):\n",
        "        return 1 if x >= 0 else 0\n",
        "\n",
        "    # Forward pass: calculate the weighted sum and apply the activation function\n",
        "    def forward(self, inputs):\n",
        "        weighted_sum = np.dot(inputs, self.weights) + self.bias\n",
        "        return self.activation(weighted_sum)\n",
        "\n",
        "    # Train the perceptron using the training data\n",
        "    def train(self, inputs, targets, epochs=10):\n",
        "        for epoch in range(epochs):\n",
        "            for x, target in zip(inputs, targets):\n",
        "                output = self.forward(x)\n",
        "                error = target - output  # Calculate the error\n",
        "                # Update weights and bias based on the error\n",
        "                self.weights += self.learning_rate * error * x\n",
        "                self.bias += self.learning_rate * error\n",
        "            print(f\"Epoch {epoch+1}/{epochs}, Weights: {self.weights}, Bias: {self.bias}\")\n",
        "\n",
        "# Define input data for AND, OR, and NOR gates\n",
        "inputs = np.array([[0, 0], [0, 1], [1, 0], [1, 1]])\n",
        "\n",
        "# Target outputs for AND, OR, and NOR gates\n",
        "and_output = np.array([0, 0, 0, 1])  # AND Gate\n",
        "or_output = np.array([0, 1, 1, 1])   # OR Gate\n",
        "nor_output = np.array([1, 0, 0, 0])  # NOR Gate\n",
        "\n",
        "# Create perceptron instances for AND, OR, and NOR gates\n",
        "and_perceptron = Perceptron(input_size=2)\n",
        "or_perceptron = Perceptron(input_size=2)\n",
        "nor_perceptron = Perceptron(input_size=2)\n",
        "\n",
        "# Train the perceptrons\n",
        "print(\"Training for AND Gate:\")\n",
        "and_perceptron.train(inputs, and_output)\n",
        "\n",
        "print(\"\\nTraining for OR Gate:\")\n",
        "or_perceptron.train(inputs, or_output)\n",
        "\n",
        "print(\"\\nTraining for NOR Gate:\")\n",
        "nor_perceptron.train(inputs, nor_output)\n",
        "\n",
        "# Test the perceptrons on all inputs\n",
        "print(\"\\nTesting AND Gate:\")\n",
        "for x in inputs:\n",
        "    print(f\"Input: {x}, Output: {and_perceptron.forward(x)}\")\n",
        "\n",
        "print(\"\\nTesting OR Gate:\")\n",
        "for x in inputs:\n",
        "    print(f\"Input: {x}, Output: {or_perceptron.forward(x)}\")\n",
        "\n",
        "print(\"\\nTesting NOR Gate:\")\n",
        "for x in inputs:\n",
        "    print(f\"Input: {x}, Output: {nor_perceptron.forward(x)}\")\n"
      ]
    },
    {
      "cell_type": "code",
      "execution_count": null,
      "metadata": {
        "id": "Uz7rH7aipPLR"
      },
      "outputs": [],
      "source": []
    }
  ],
  "metadata": {
    "colab": {
      "provenance": []
    },
    "kernelspec": {
      "display_name": "base",
      "language": "python",
      "name": "python3"
    },
    "language_info": {
      "codemirror_mode": {
        "name": "ipython",
        "version": 3
      },
      "file_extension": ".py",
      "mimetype": "text/x-python",
      "name": "python",
      "nbconvert_exporter": "python",
      "pygments_lexer": "ipython3",
      "version": "3.12.7"
    }
  },
  "nbformat": 4,
  "nbformat_minor": 0
}
