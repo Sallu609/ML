{
  "cells": [
    {
      "cell_type": "code",
      "execution_count": 2,
      "metadata": {
        "colab": {
          "base_uri": "https://localhost:8080/"
        },
        "id": "oXSg8x1N_4Q2",
        "outputId": "53acce16-a2e8-46a1-abfe-a9222a1d8be5"
      },
      "outputs": [
        {
          "name": "stdout",
          "output_type": "stream",
          "text": [
            "Final Means: [4.12727018 3.88417041]\n",
            "Final Variances: [4.01046902 4.01325013]\n",
            "Final Mixing Coefficients: [0.47646935 0.52353065]\n",
            "Final Responsibilities:\n",
            "[[0.44634875 0.55365125]\n",
            " [0.44935446 0.55064554]\n",
            " [0.44334525 0.55665475]\n",
            " [0.50658994 0.49341006]\n",
            " [0.50358415 0.49641585]\n",
            " [0.50959354 0.49040646]]\n"
          ]
        }
      ],
      "source": [
        "import numpy as np\n",
        "from scipy.stats import norm\n",
        "\n",
        "def expectation_maximization(X, num_clusters=2, max_iters=100, tol=1e-4):\n",
        "    # Step 1: Initialize parameters\n",
        "    np.random.seed(42)\n",
        "    mu = np.random.choice(X, num_clusters)  # Randomly pick initial means\n",
        "    sigma = np.full(num_clusters, np.var(X))  # Initialize variances\n",
        "    pi = np.full(num_clusters, 1 / num_clusters)  # Equal mixing coefficients\n",
        "\n",
        "    X = np.array(X)  # Convert input to numpy array\n",
        "\n",
        "    for iteration in range(max_iters):\n",
        "        # Step 2: Expectation Step (Compute Responsibilities)\n",
        "        responsibilities = np.zeros((len(X), num_clusters))\n",
        "        for j in range(num_clusters):\n",
        "            responsibilities[:, j] = pi[j] * norm.pdf(X, mu[j], np.sqrt(sigma[j]))\n",
        "        responsibilities /= responsibilities.sum(axis=1, keepdims=True)  # Normalize\n",
        "\n",
        "        # Step 3: Maximization Step (Update Parameters)\n",
        "        N_k = responsibilities.sum(axis=0)  # Effective number of points in each cluster\n",
        "        new_mu = np.sum(responsibilities * X[:, np.newaxis], axis=0) / N_k\n",
        "        new_sigma = np.sum(responsibilities * (X[:, np.newaxis] - new_mu) ** 2, axis=0) / N_k\n",
        "        new_pi = N_k / len(X)\n",
        "\n",
        "        # Convergence Check\n",
        "        if np.allclose(mu, new_mu, atol=tol) and np.allclose(sigma, new_sigma, atol=tol):\n",
        "            break\n",
        "\n",
        "        mu, sigma, pi = new_mu, new_sigma, new_pi  # Update parameters\n",
        "\n",
        "    return mu, sigma, pi, responsibilities\n",
        "\n",
        "# Given dataset\n",
        "X = [2.0, 2.2, 1.8, 6.0, 5.8, 6.2]\n",
        "\n",
        "# Run EM algorithm\n",
        "mu_final, sigma_final, pi_final, responsibilities_final = expectation_maximization(X)\n",
        "\n",
        "# Print results\n",
        "print(f\"Final Means: {mu_final}\")\n",
        "print(f\"Final Variances: {sigma_final}\")\n",
        "print(f\"Final Mixing Coefficients: {pi_final}\")\n",
        "print(\"Final Responsibilities:\")\n",
        "print(responsibilities_final)"
      ]
    }
  ],
  "metadata": {
    "colab": {
      "provenance": []
    },
    "kernelspec": {
      "display_name": "base",
      "language": "python",
      "name": "python3"
    },
    "language_info": {
      "codemirror_mode": {
        "name": "ipython",
        "version": 3
      },
      "file_extension": ".py",
      "mimetype": "text/x-python",
      "name": "python",
      "nbconvert_exporter": "python",
      "pygments_lexer": "ipython3",
      "version": "3.12.7"
    }
  },
  "nbformat": 4,
  "nbformat_minor": 0
}
