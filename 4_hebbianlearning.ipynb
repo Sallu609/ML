{
  "cells": [
    {
      "cell_type": "markdown",
      "metadata": {
        "id": "3fvl9c5IFRHP"
      },
      "source": []
    },
    {
      "cell_type": "code",
      "execution_count": 6,
      "metadata": {},
      "outputs": [
        {
          "name": "stdout",
          "output_type": "stream",
          "text": [
            "Predicted output for input [0 1]: [0.23155337 0.07451149]\n"
          ]
        }
      ],
      "source": [
        "import numpy as np\n",
        "\n",
        "class HebbianNetwork:\n",
        "    def __init__(self, input_size, output_size, learning_rate=0.01):\n",
        "        self.weights = np.random.rand(input_size, output_size)\n",
        "        self.learning_rate = learning_rate\n",
        "\n",
        "\n",
        "    def train(self, inputs, outputs):\n",
        "        for i in range(len(inputs)):\n",
        "            input_vector = inputs[i]\n",
        "            output_vector = outputs[i]\n",
        "            self.weights += self.learning_rate * np.outer(input_vector, output_vector)\n",
        "\n",
        "\n",
        "    def predict(self, input_vector):\n",
        "        return np.dot(input_vector, self.weights)\n",
        "\n",
        "# Example usage\n",
        "\n",
        "# Define input and output patterns\n",
        "inputs = np.array([[1, 0], [0, 1], [1, 1], [0, 0]])\n",
        "outputs = np.array([[1, 0], [0, 1], [1, 1], [0, 0]])\n",
        "\n",
        "# Initialize the Hebbian network\n",
        "network = HebbianNetwork(input_size=2, output_size=2)\n",
        "\n",
        "\n",
        "# Train the network\n",
        "network.train(inputs, outputs)\n",
        "\n",
        "# Test the network\n",
        "test_input = np.array([0, 1])\n",
        "predicted_output = network.predict(test_input)\n",
        "\n",
        "print(f\"Predicted output for input {test_input}: {predicted_output}\")"
      ]
    },
    {
      "cell_type": "markdown",
      "metadata": {
        "id": "iG2Fw8nbFTT-"
      },
      "source": [
        "https://www.geeksforgeeks.org/how-to-utilize-hebbian-learning/"
      ]
    }
  ],
  "metadata": {
    "colab": {
      "provenance": []
    },
    "kernelspec": {
      "display_name": "base",
      "language": "python",
      "name": "python3"
    },
    "language_info": {
      "codemirror_mode": {
        "name": "ipython",
        "version": 3
      },
      "file_extension": ".py",
      "mimetype": "text/x-python",
      "name": "python",
      "nbconvert_exporter": "python",
      "pygments_lexer": "ipython3",
      "version": "3.12.7"
    }
  },
  "nbformat": 4,
  "nbformat_minor": 0
}
