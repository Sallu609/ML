{
  "cells": [
    {
      "cell_type": "code",
      "execution_count": 1,
      "metadata": {
        "colab": {
          "base_uri": "https://localhost:8080/"
        },
        "id": "fK4AwHRv7Tlv",
        "outputId": "c2fd5d84-e700-4276-af06-4b05afab5351"
      },
      "outputs": [
        {
          "name": "stdout",
          "output_type": "stream",
          "text": [
            "Epoch 0: Loss = 0.5017\n",
            "Epoch 1000: Loss = 0.4993\n",
            "Epoch 2000: Loss = 0.4905\n",
            "Epoch 3000: Loss = 0.4262\n",
            "Epoch 4000: Loss = 0.3502\n",
            "Epoch 5000: Loss = 0.2317\n",
            "Epoch 6000: Loss = 0.1408\n",
            "Epoch 7000: Loss = 0.1012\n",
            "Epoch 8000: Loss = 0.0806\n",
            "Epoch 9000: Loss = 0.0681\n",
            "\n",
            "Trained Network Output:\n",
            "[[0.]\n",
            " [1.]\n",
            " [1.]\n",
            " [0.]]\n"
          ]
        }
      ],
      "source": [
        "import numpy as np\n",
        "\n",
        "# Sigmoid activation function and its derivative\n",
        "def sigmoid(x):\n",
        "    return 1 / (1 + np.exp(-x))\n",
        "\n",
        "def sigmoid_derivative(x):\n",
        "    return x * (1 - x)\n",
        "\n",
        "# Training Data for XOR\n",
        "X = np.array([[0, 0],\n",
        "              [0, 1],\n",
        "              [1, 0],\n",
        "              [1, 1]])\n",
        "\n",
        "# Expected XOR output\n",
        "y = np.array([[0], [1], [1], [0]])\n",
        "\n",
        "# Initialize weights and biases randomly\n",
        "np.random.seed(1)\n",
        "input_size = 2\n",
        "hidden_size = 3\n",
        "output_size = 1\n",
        "\n",
        "W1 = np.random.uniform(-1, 1, (input_size, hidden_size))  # Weights for input -> hidden\n",
        "\n",
        "b1 = np.random.uniform(-1, 1, (1, hidden_size))  # Bias for hidden layer\n",
        "W2 = np.random.uniform(-1, 1, (hidden_size, output_size))  # Weights for hidden -> output\n",
        "\n",
        "b2 = np.random.uniform(-1, 1, (1, output_size))  # Bias for output layer\n",
        "\n",
        "# Training parameters\n",
        "epochs = 10000\n",
        "learning_rate = 0.1\n",
        "\n",
        "# Training loop\n",
        "for epoch in range(epochs):\n",
        "    # ---- Forward Pass ----\n",
        "    hidden_input = np.dot(X, W1) + b1  # Net input to hidden layer\n",
        "    hidden_output = sigmoid(hidden_input)  # Activation of hidden layer\n",
        "\n",
        "    final_input = np.dot(hidden_output, W2) + b2  # Net input to output layer\n",
        "    predicted_output = sigmoid(final_input)  # Activation of output layer\n",
        "\n",
        "    # ---- Compute Error ----\n",
        "    error = (y - predicted_output)\n",
        "    #print(final_output)\n",
        "    # ---- Backpropagation ----\n",
        "    # Compute gradients for output layer\n",
        "    error2 = error * sigmoid_derivative(predicted_output)\n",
        "    #print (d_output)\n",
        "\n",
        "\n",
        "    # Compute gradients for hidden layer\n",
        "    error1 = np.dot(error2, W2.T) * sigmoid_derivative(hidden_output)\n",
        "\n",
        "    # ---- Update Weights and Biases ----\n",
        "    W2 += np.dot(hidden_output.T, error2) * learning_rate\n",
        "    b2 += np.sum(error2, axis=0, keepdims=True) * learning_rate\n",
        "    W1 += np.dot(X.T, error1) * learning_rate\n",
        "    b1 += np.sum(error1, axis=0, keepdims=True) * learning_rate\n",
        "\n",
        "    # Print loss every 1000 epochs\n",
        "    if epoch % 1000 == 0:\n",
        "        loss = np.mean(np.abs(error))\n",
        "        print(f\"Epoch {epoch}: Loss = {loss:.4f}\")\n",
        "\n",
        "# ---- Testing the trained network ----\n",
        "print(\"\\nTrained Network Output:\")\n",
        "print(predicted_output.round())  # Rounded output for XOR operation\n"
      ]
    },
    {
      "cell_type": "code",
      "execution_count": null,
      "metadata": {
        "id": "4SCZWJl68BV4"
      },
      "outputs": [],
      "source": []
    }
  ],
  "metadata": {
    "colab": {
      "provenance": []
    },
    "kernelspec": {
      "display_name": "base",
      "language": "python",
      "name": "python3"
    },
    "language_info": {
      "codemirror_mode": {
        "name": "ipython",
        "version": 3
      },
      "file_extension": ".py",
      "mimetype": "text/x-python",
      "name": "python",
      "nbconvert_exporter": "python",
      "pygments_lexer": "ipython3",
      "version": "3.12.7"
    }
  },
  "nbformat": 4,
  "nbformat_minor": 0
}
